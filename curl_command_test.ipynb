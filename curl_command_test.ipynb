{
 "cells": [
  {
   "cell_type": "code",
   "execution_count": 1,
   "metadata": {},
   "outputs": [],
   "source": [
    "import subprocess\n",
    "import gzip\n",
    "import os\n",
    "import json\n",
    "from time import sleep\n",
    "\n",
    "\n",
    "\"\"\" # 替换为你的job IDs文件路径\n",
    "jobids_file_path = 'jobids.txt'\n",
    "\n",
    "\n",
    "# 读取job IDs\n",
    "with open(jobids_file_path, 'r') as file:\n",
    "    jobids = [line.strip() for line in file if line.strip()]\n",
    " \"\"\"\n",
    "\n",
    "def read_json_file(file_path):\n",
    "    with open(file_path, 'r', encoding='utf-8') as file:\n",
    "        data = json.load(file)\n",
    "    return data\n",
    "\n",
    "\n",
    "data=read_json_file(r\"C:\\Users\\Xue\\Documents\\GitHub\\gender-discrimination-hiring\\added.json\")\n",
    "\n",
    "jobids=[]\n",
    "for job in data:\n",
    "    jobids.append(job[\"jobId\"])\n"
   ]
  },
  {
   "cell_type": "code",
   "execution_count": 2,
   "metadata": {},
   "outputs": [
    {
     "data": {
      "text/plain": [
       "['151227315',\n",
       " '153707996',\n",
       " '153659054',\n",
       " '147183192',\n",
       " '62483550',\n",
       " '153581465',\n",
       " '153686797',\n",
       " '153930343',\n",
       " '140441470',\n",
       " '152600800',\n",
       " '153749611',\n",
       " '153317697',\n",
       " '154192470',\n",
       " '153763703',\n",
       " '151618964',\n",
       " '153356874',\n",
       " '153973634',\n",
       " '153775962',\n",
       " '148877819',\n",
       " '154133323',\n",
       " '137221498',\n",
       " '151615675',\n",
       " '153104739',\n",
       " '154051492',\n",
       " '153951231',\n",
       " '153246826',\n",
       " '152648113',\n",
       " '154048971',\n",
       " '150769406',\n",
       " '154142884',\n",
       " '154017920',\n",
       " '153964510',\n",
       " '153577987',\n",
       " '151767266']"
      ]
     },
     "execution_count": 2,
     "metadata": {},
     "output_type": "execute_result"
    }
   ],
   "source": [
    "jobids"
   ]
  },
  {
   "cell_type": "code",
   "execution_count": 8,
   "metadata": {},
   "outputs": [],
   "source": [
    "jobids=jobids[0:2]"
   ]
  },
  {
   "cell_type": "code",
   "execution_count": 9,
   "metadata": {},
   "outputs": [
    {
     "name": "stdout",
     "output_type": "stream",
     "text": [
      "<script language=\"javascript\">self.location.href='https://login.51job.com/login.php?lang=c&url=' + encodeURIComponent(window.location.href.indexOf('big5.51job.com') != -1 ? '':window.location.href);</script>\n",
      "Job ID 151227315的页面已保存和解压。\n",
      "<script language=\"javascript\">self.location.href='https://login.51job.com/login.php?lang=c&url=' + encodeURIComponent(window.location.href.indexOf('big5.51job.com') != -1 ? '':window.location.href);</script>\n",
      "Job ID 153707996的页面已保存和解压。\n"
     ]
    }
   ],
   "source": [
    "\n",
    "# 循环处理每个job ID\n",
    "for jobid in jobids:\n",
    "    # 构造curl命令\n",
    "    url = f\"https://i.51job.com/userset/compete.php?jobid={jobid}&resumeid=468287804&accountid=241451461&lang=c\"\n",
    "    curl_command = [\n",
    "        'curl', url, '-k',\n",
    "        '-H', 'Accept: text/html,application/xhtml+xml,application/xml;q=0.9,image/avif,image/webp,image/apng,*/*;q=0.8,application/signed-exchange;v=b3;q=0.7',\n",
    "        '-H', 'Accept-Language: zh-CN,zh;q=0.9,en;q=0.8,en-GB;q=0.7,en-US;q=0.6',\n",
    "        '-H', 'Cache-Control: max-age=0',\n",
    "        '-H', 'Connection: keep-alive',\n",
    "        '-H', ('Cookie: guid=d0f03d872be69bcd8cca452f8b982cee; nsearch=jobarea%3D%26%7C%26ord_field%3D%26%7C%26recentSearch0%3D%26%7C%26recentSearch1%3D%26%7C%26recentSearch2%3D%26%7C%26recentSearch3%3D%26%7C%26recentSearch4%3D%26%7C%26collapse_expansion%3D; ps=needv%3D0; 51job=cuid=241451461%26cusername=5tPr3OojqzBIvVkQD8w4PerBrId4KfXPcACVxts0hrg%253D; ...[其他cookie信息]'),\n",
    "        '-H', 'Host: i.51job.com',\n",
    "        '-H', f'Referer: https://i.51job.com/userset/bounce_window_redirect.php?jobid={jobid}&redirect_type=2',\n",
    "        '-H', 'Sec-Fetch-Dest: document',\n",
    "        '-H', 'Sec-Fetch-Mode: navigate',\n",
    "        '-H', 'Sec-Fetch-Site: same-origin',\n",
    "        '-H', 'Sec-Fetch-User: ?1',\n",
    "        '-H', 'Upgrade-Insecure-Requests: 1',\n",
    "        '-H', 'User-Agent: Mozilla/5.0 (Windows NT 10.0; Win64; x64) AppleWebKit/537.36 (KHTML, like Gecko) Chrome/123.0.0.0 Safari/537.36 Edg/123.0.0.0',\n",
    "        '-H', 'sec-ch-ua: \"Microsoft Edge\";v=\"123\", \"Not:A-Brand\";v=\"8\", \"Chromium\";v=\"123\"',\n",
    "        '-H', 'sec-ch-ua-mobile: ?0',\n",
    "        '-H', 'sec-ch-ua-platform: \"Windows\"',\n",
    "        '-o', f'{jobid}.html.gz'  # 输出文件\n",
    "    ]\n",
    "    \n",
    "    # 执行curl命令\n",
    "    subprocess.run(curl_command, check=True)\n",
    "    \n",
    "\n",
    "\n",
    "    with open(f'{jobid}.html.gz', 'r', encoding='utf-8') as file:\n",
    "        print(file.read(500))  # 打印文件的前500个字符\n",
    "    \n",
    "    print(f'Job ID {jobid}的页面已保存和解压。')\n",
    "\n",
    "    sleep(1)\n"
   ]
  }
 ],
 "metadata": {
  "kernelspec": {
   "display_name": "Python 3",
   "language": "python",
   "name": "python3"
  },
  "language_info": {
   "codemirror_mode": {
    "name": "ipython",
    "version": 3
   },
   "file_extension": ".py",
   "mimetype": "text/x-python",
   "name": "python",
   "nbconvert_exporter": "python",
   "pygments_lexer": "ipython3",
   "version": "3.12.1"
  }
 },
 "nbformat": 4,
 "nbformat_minor": 2
}
