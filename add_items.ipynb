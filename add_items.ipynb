{
 "cells": [
  {
   "cell_type": "code",
   "execution_count": null,
   "metadata": {},
   "outputs": [],
   "source": [
    "import os\n",
    "import pandas as pd\n",
    "\n",
    "# 路径\n",
    "path_competition = r'C:\\Users\\Xue\\Documents\\GitHub\\gender-discrimination-hiring\\Data\\Competition'\n",
    "path_interest = r'C:\\Users\\Xue\\Documents\\GitHub\\gender-discrimination-hiring\\Data\\Interest'\n",
    "path_summary = r'C:\\Users\\Xue\\Documents\\GitHub\\gender-discrimination-hiring\\Data\\summary.xlsx'\n",
    "\n",
    "# 读取A文件\n",
    "df_summary = pd.read_excel(path_summary)\n",
    "\n",
    "# 遍历B类文件夹，读取B类文件\n",
    "for filename in os.listdir(path_competition):\n",
    "    if filename.endswith('.xlsx'):\n",
    "        file_path = os.path.join(path_competition, filename)\n",
    "        df_competition = pd.read_excel(file_path)\n",
    "        \n",
    "        # 遍历B类文件中的每一项\n",
    "        for index, row in df_competition.iterrows():\n",
    "            # 如果company_name与A的某项的fullCompanyName相同\n",
    "            mask = df_summary['fullCompanyName'] == row['fullCompanyName']\n",
    "            # 将B中该项的competition添加给A的此项\n",
    "            df_summary.loc[mask, 'competition'] = row['competition']\n",
    "\n",
    "# 遍历C类文件夹，读取C类文件\n",
    "for filename in os.listdir(path_interest):\n",
    "    if filename.endswith('.xlsx'):\n",
    "        file_path = os.path.join(path_interest, filename)\n",
    "        df_interest = pd.read_excel(file_path)\n",
    "        \n",
    "        # 遍历C类文件中的每一项\n",
    "        for index, row in df_interest.iterrows():\n",
    "            # 如果company_name与A的某项的fullCompanyName相同\n",
    "            mask = df_summary['fullCompanyName'] == row['company_name']\n",
    "            # 将C中该项的views_count、interest添加给A的此项\n",
    "            df_summary.loc[mask, 'views_count'] = row['views_count']\n",
    "            df_summary.loc[mask, 'interest'] = row['interest']\n",
    "            df_summary.loc[mask, 'last_view_time'] = row['last_view_time']\n",
    "\n",
    "# 保存修改过的文件A\n",
    "df_summary.to_excel(path_summary, index=False)\n"
   ]
  },
  {
   "cell_type": "code",
   "execution_count": 3,
   "metadata": {},
   "outputs": [
    {
     "ename": "ValueError",
     "evalue": "Excel file format cannot be determined, you must specify an engine manually.",
     "output_type": "error",
     "traceback": [
      "\u001b[1;31m---------------------------------------------------------------------------\u001b[0m",
      "\u001b[1;31mValueError\u001b[0m                                Traceback (most recent call last)",
      "Cell \u001b[1;32mIn[3], line 17\u001b[0m\n\u001b[0;32m     15\u001b[0m \u001b[38;5;28;01mif\u001b[39;00m filename\u001b[38;5;241m.\u001b[39mendswith(\u001b[38;5;124m'\u001b[39m\u001b[38;5;124m.xlsx\u001b[39m\u001b[38;5;124m'\u001b[39m):\n\u001b[0;32m     16\u001b[0m     file_path \u001b[38;5;241m=\u001b[39m os\u001b[38;5;241m.\u001b[39mpath\u001b[38;5;241m.\u001b[39mjoin(path_competition, filename)\n\u001b[1;32m---> 17\u001b[0m     df_competition \u001b[38;5;241m=\u001b[39m \u001b[43mpd\u001b[49m\u001b[38;5;241;43m.\u001b[39;49m\u001b[43mread_excel\u001b[49m\u001b[43m(\u001b[49m\u001b[43mfile_path\u001b[49m\u001b[43m)\u001b[49m\n\u001b[0;32m     19\u001b[0m     \u001b[38;5;66;03m# 遍历B类文件中的每一项\u001b[39;00m\n\u001b[0;32m     20\u001b[0m     \u001b[38;5;28;01mfor\u001b[39;00m index, row \u001b[38;5;129;01min\u001b[39;00m df_competition\u001b[38;5;241m.\u001b[39miterrows():\n\u001b[0;32m     21\u001b[0m         \u001b[38;5;66;03m# 如果company_name与A的某项的fullCompanyName相同\u001b[39;00m\n",
      "File \u001b[1;32mc:\\Users\\Xue\\AppData\\Local\\Programs\\Python\\Python312\\Lib\\site-packages\\pandas\\io\\excel\\_base.py:504\u001b[0m, in \u001b[0;36mread_excel\u001b[1;34m(io, sheet_name, header, names, index_col, usecols, dtype, engine, converters, true_values, false_values, skiprows, nrows, na_values, keep_default_na, na_filter, verbose, parse_dates, date_parser, date_format, thousands, decimal, comment, skipfooter, storage_options, dtype_backend, engine_kwargs)\u001b[0m\n\u001b[0;32m    502\u001b[0m \u001b[38;5;28;01mif\u001b[39;00m \u001b[38;5;129;01mnot\u001b[39;00m \u001b[38;5;28misinstance\u001b[39m(io, ExcelFile):\n\u001b[0;32m    503\u001b[0m     should_close \u001b[38;5;241m=\u001b[39m \u001b[38;5;28;01mTrue\u001b[39;00m\n\u001b[1;32m--> 504\u001b[0m     io \u001b[38;5;241m=\u001b[39m \u001b[43mExcelFile\u001b[49m\u001b[43m(\u001b[49m\n\u001b[0;32m    505\u001b[0m \u001b[43m        \u001b[49m\u001b[43mio\u001b[49m\u001b[43m,\u001b[49m\n\u001b[0;32m    506\u001b[0m \u001b[43m        \u001b[49m\u001b[43mstorage_options\u001b[49m\u001b[38;5;241;43m=\u001b[39;49m\u001b[43mstorage_options\u001b[49m\u001b[43m,\u001b[49m\n\u001b[0;32m    507\u001b[0m \u001b[43m        \u001b[49m\u001b[43mengine\u001b[49m\u001b[38;5;241;43m=\u001b[39;49m\u001b[43mengine\u001b[49m\u001b[43m,\u001b[49m\n\u001b[0;32m    508\u001b[0m \u001b[43m        \u001b[49m\u001b[43mengine_kwargs\u001b[49m\u001b[38;5;241;43m=\u001b[39;49m\u001b[43mengine_kwargs\u001b[49m\u001b[43m,\u001b[49m\n\u001b[0;32m    509\u001b[0m \u001b[43m    \u001b[49m\u001b[43m)\u001b[49m\n\u001b[0;32m    510\u001b[0m \u001b[38;5;28;01melif\u001b[39;00m engine \u001b[38;5;129;01mand\u001b[39;00m engine \u001b[38;5;241m!=\u001b[39m io\u001b[38;5;241m.\u001b[39mengine:\n\u001b[0;32m    511\u001b[0m     \u001b[38;5;28;01mraise\u001b[39;00m \u001b[38;5;167;01mValueError\u001b[39;00m(\n\u001b[0;32m    512\u001b[0m         \u001b[38;5;124m\"\u001b[39m\u001b[38;5;124mEngine should not be specified when passing \u001b[39m\u001b[38;5;124m\"\u001b[39m\n\u001b[0;32m    513\u001b[0m         \u001b[38;5;124m\"\u001b[39m\u001b[38;5;124man ExcelFile - ExcelFile already has the engine set\u001b[39m\u001b[38;5;124m\"\u001b[39m\n\u001b[0;32m    514\u001b[0m     )\n",
      "File \u001b[1;32mc:\\Users\\Xue\\AppData\\Local\\Programs\\Python\\Python312\\Lib\\site-packages\\pandas\\io\\excel\\_base.py:1567\u001b[0m, in \u001b[0;36mExcelFile.__init__\u001b[1;34m(self, path_or_buffer, engine, storage_options, engine_kwargs)\u001b[0m\n\u001b[0;32m   1563\u001b[0m     ext \u001b[38;5;241m=\u001b[39m inspect_excel_format(\n\u001b[0;32m   1564\u001b[0m         content_or_path\u001b[38;5;241m=\u001b[39mpath_or_buffer, storage_options\u001b[38;5;241m=\u001b[39mstorage_options\n\u001b[0;32m   1565\u001b[0m     )\n\u001b[0;32m   1566\u001b[0m     \u001b[38;5;28;01mif\u001b[39;00m ext \u001b[38;5;129;01mis\u001b[39;00m \u001b[38;5;28;01mNone\u001b[39;00m:\n\u001b[1;32m-> 1567\u001b[0m         \u001b[38;5;28;01mraise\u001b[39;00m \u001b[38;5;167;01mValueError\u001b[39;00m(\n\u001b[0;32m   1568\u001b[0m             \u001b[38;5;124m\"\u001b[39m\u001b[38;5;124mExcel file format cannot be determined, you must specify \u001b[39m\u001b[38;5;124m\"\u001b[39m\n\u001b[0;32m   1569\u001b[0m             \u001b[38;5;124m\"\u001b[39m\u001b[38;5;124man engine manually.\u001b[39m\u001b[38;5;124m\"\u001b[39m\n\u001b[0;32m   1570\u001b[0m         )\n\u001b[0;32m   1572\u001b[0m engine \u001b[38;5;241m=\u001b[39m config\u001b[38;5;241m.\u001b[39mget_option(\u001b[38;5;124mf\u001b[39m\u001b[38;5;124m\"\u001b[39m\u001b[38;5;124mio.excel.\u001b[39m\u001b[38;5;132;01m{\u001b[39;00mext\u001b[38;5;132;01m}\u001b[39;00m\u001b[38;5;124m.reader\u001b[39m\u001b[38;5;124m\"\u001b[39m, silent\u001b[38;5;241m=\u001b[39m\u001b[38;5;28;01mTrue\u001b[39;00m)\n\u001b[0;32m   1573\u001b[0m \u001b[38;5;28;01mif\u001b[39;00m engine \u001b[38;5;241m==\u001b[39m \u001b[38;5;124m\"\u001b[39m\u001b[38;5;124mauto\u001b[39m\u001b[38;5;124m\"\u001b[39m:\n",
      "\u001b[1;31mValueError\u001b[0m: Excel file format cannot be determined, you must specify an engine manually."
     ]
    },
    {
     "ename": "",
     "evalue": "",
     "output_type": "error",
     "traceback": [
      "\u001b[1;31m在当前单元格或上一个单元格中执行代码时 Kernel 崩溃。\n",
      "\u001b[1;31m请查看单元格中的代码，以确定故障的可能原因。\n",
      "\u001b[1;31m单击<a href='https://aka.ms/vscodeJupyterKernelCrash'>此处</a>了解详细信息。\n",
      "\u001b[1;31m有关更多详细信息，请查看 Jupyter <a href='command:jupyter.viewOutput'>log</a>。"
     ]
    }
   ],
   "source": [
    "\n",
    "\n",
    "import os\n",
    "import pandas as pd\n",
    "\n",
    "# 路径\n",
    "path_competition = r'D:\\WorkFile\\51job_data\\data_IT_04072024\\2024-4-6-1800-2000\\merge'\n",
    "\n",
    "\n",
    "path_summary = r'C:\\Users\\Xue\\Documents\\GitHub\\gender-discrimination-hiring\\Data\\IT_Callback截至0430.xlsx'\n",
    "\n",
    "# 读取A文件\n",
    "df_summary = pd.read_excel(path_summary)\n",
    "\n",
    "# 遍历B类文件夹，读取B类文件\n",
    "for filename in os.listdir(path_competition):\n",
    "    if filename.endswith('.xlsx'):\n",
    "        file_path = os.path.join(path_competition, filename)\n",
    "        df_competition = pd.read_excel(file_path)\n",
    "        \n",
    "        # 遍历B类文件中的每一项\n",
    "        for index, row in df_competition.iterrows():\n",
    "            # 如果company_name与A的某项的fullCompanyName相同\n",
    "            mask = df_summary['jobId'] == row['jobId']\n",
    "            # 将B中该项的competition添加给A的此项\n",
    "            df_summary.loc[mask, 'industryType1Str'] = row['industryType1Str']\n",
    "            df_summary.loc[mask, 'industryType2Str'] = row['industryType2Str']\n",
    "\n",
    "# 保存修改过的文件A\n",
    "df_summary.to_excel(path_summary, index=False)\n"
   ]
  },
  {
   "cell_type": "code",
   "execution_count": null,
   "metadata": {},
   "outputs": [],
   "source": []
  }
 ],
 "metadata": {
  "kernelspec": {
   "display_name": "Python 3",
   "language": "python",
   "name": "python3"
  },
  "language_info": {
   "codemirror_mode": {
    "name": "ipython",
    "version": 3
   },
   "file_extension": ".py",
   "mimetype": "text/x-python",
   "name": "python",
   "nbconvert_exporter": "python",
   "pygments_lexer": "ipython3",
   "version": "3.12.1"
  }
 },
 "nbformat": 4,
 "nbformat_minor": 2
}
